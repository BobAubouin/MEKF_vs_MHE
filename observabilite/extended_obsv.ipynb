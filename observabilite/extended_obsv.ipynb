{
 "cells": [
  {
   "attachments": {},
   "cell_type": "markdown",
   "metadata": {},
   "source": [
    "# Observability study of the linear system propofol-Remifentanil to BIS and his extension"
   ]
  },
  {
   "cell_type": "code",
   "execution_count": null,
   "metadata": {},
   "outputs": [],
   "source": [
    "import numpy as np\n",
    "import pandas as pd\n",
    "import casadi as cas\n",
    "import python_anesthesia_simulator as pas\n",
    "import scipy.linalg as la\n",
    "import sympy as sym\n",
    "sym.init_printing()"
   ]
  },
  {
   "cell_type": "code",
   "execution_count": null,
   "metadata": {},
   "outputs": [],
   "source": [
    "def jacobian(f, x):\n",
    "    n = len(x)\n",
    "    J = sym.zeros(1, n)\n",
    "    for i in range(n):\n",
    "        J[0, i] = f.diff(x[i])\n",
    "    return J\n",
    "\n",
    "\n",
    "def Lie_derivative(f, h, x):\n",
    "    return np.sum(jacobian(h, x) @ f)\n",
    "\n",
    "\n",
    "def observability_matrix(f, h, x):\n",
    "    n = len(x)\n",
    "    Lie_dev = sym.zeros(n, 1)\n",
    "    Lie_dev[0] = h\n",
    "    obsv = sym.zeros(n, n)\n",
    "    for i in range(1, n):\n",
    "        Lie_dev[i] = Lie_derivative(f, Lie_dev[i-1], x)\n",
    "    for i in range(n):\n",
    "        for j in range(n):\n",
    "            obsv[i, j] = Lie_dev[i].diff(x[j])\n",
    "    return obsv"
   ]
  },
  {
   "attachments": {},
   "cell_type": "markdown",
   "metadata": {},
   "source": [
    "## Test the observability of the system considering a linear output\n"
   ]
  },
  {
   "cell_type": "code",
   "execution_count": null,
   "metadata": {},
   "outputs": [],
   "source": [
    "\n",
    "k10p, k12p, k21p, k13p, k31p, ke1p, V1p = sym.symbols('k10p k12p k21p k13p k31p ke1p V1p')\n",
    "\n",
    "Ap = sym.Matrix([[-(k10p + k12p + k13p), k12p, k13p, 0],\n",
    "                 [k21p, -k21p, 0, 0],\n",
    "                 [k31p, 0, - k31p, 0],\n",
    "                 [ke1p, 0, 0, -ke1p]])\n",
    "\n",
    "k10r, k12r, k21r, k13r, k31r, ke1r, V1r = sym.symbols('k10r k12r k21r k13r k31r ke1r V1r')\n",
    "\n",
    "Ar = sym.Matrix([[-(k10r + k12r + k13r), k12r, k13r, 0],\n",
    "                 [k21r, -k21r, 0, 0],\n",
    "                 [k31r, 0, - k31r, 0],\n",
    "                 [ke1r, 0, 0, -ke1r]])\n",
    "\n",
    "A = sym.Matrix([[Ap, sym.zeros(4, 4)], [sym.zeros(4, 4), Ar]])\n",
    "\n",
    "\n",
    "x = sym.symarray('x', 8)\n",
    "u = sym.symarray('u', 2)\n",
    "B = sym.Matrix([[1/V1p, 0, 0, 0, 0, 0, 0, 0],\n",
    "                [0, 0, 0, 0, 1/V1r, 0, 0, 0]]).T\n",
    "\n",
    "f = A @ x + B @ u\n",
    "a, b ,c = sym.symbols('a b c')\n",
    "y = x[3]*a + x[7]*b + c\n",
    "\n",
    "obsv = observability_matrix(f, y, x)\n",
    "\n",
    "# get real values\n",
    "age = 50\n",
    "height = 170\n",
    "weight = 70\n",
    "gender = 0\n",
    "\n",
    "simulator = pas.Patient([age, height, weight, gender])\n",
    "\n",
    "A_p = simulator.propo_pk.continuous_sys.A[:4, :4]\n",
    "A_r = simulator.remi_pk.continuous_sys.A[:4, :4]\n",
    "B_p = simulator.propo_pk.continuous_sys.B[:4]\n",
    "B_r = simulator.remi_pk.continuous_sys.B[:4]\n",
    "\n",
    "k10p_value = A_p[0, 0] + A_p[0, 1] + A_p[0, 2]\n",
    "k12p_value = A_p[0, 1]\n",
    "k21p_value = A_p[1, 0]\n",
    "k13p_value = A_p[0, 2]\n",
    "k31p_value = A_p[2, 0]\n",
    "ke1p_value = A_p[3, 0]\n",
    "V1p_value = B_p[0,0]\n",
    "\n",
    "k10r_value = A_r[0, 0] + A_r[0, 1] + A_r[0, 2]\n",
    "k12r_value = A_r[0, 1]\n",
    "k21r_value = A_r[1, 0]\n",
    "k13r_value = A_r[0, 2]\n",
    "k31r_value = A_r[2, 0]\n",
    "ke1r_value = A_r[3, 0]\n",
    "V1r_value = B_r[0,0]\n",
    "\n",
    "A1 = obsv.subs({x[0]: 4, x[1]: 4, x[2]: 4, x[3]: 4,\n",
    "                x[4]: 3, x[5]: 3, x[6]: 3, x[7]: 3,\n",
    "                a: -8, b: -2, c: 100,\n",
    "                u[0]: 0.2, u[1]: 0.3,\n",
    "                k10p: k10p_value, k12p: k12p_value, k21p: k21p_value,\n",
    "                k13p: k13p_value, k31p: k31p_value, ke1p: ke1p_value, V1p: V1p_value,\n",
    "                k10r: k10r_value, k12r: k12r_value, k21r: k21r_value,\n",
    "                k13r: k13r_value, k31r: k31r_value, ke1r: ke1r_value, V1r: V1r_value})\n",
    "print(obsv)\n",
    "print(f\"rank of the observability matrix: {A1.rank()}\")"
   ]
  },
  {
   "attachments": {},
   "cell_type": "markdown",
   "metadata": {},
   "source": [
    "# Test on extended system simplified\n",
    "\n",
    "$$\n",
    "\\left\\lbrace\n",
    "\\begin{array}{ll}\n",
    "\\dot{x} &= \\begin{pmatrix}\n",
    "- k_1 & 0 & 0 & 0 & 0 \\\\\n",
    "0 & -k_2 & 0 & 0 & 0 \\\\\n",
    "0 & 0 & 0 & 0 & 0 \\\\\n",
    "0 & 0 & 0 & 0 & 0 \\\\\n",
    "0 & 0 & 0 & 0 & 0\n",
    "\\end{pmatrix} x + \\begin{pmatrix}\n",
    "u_1 \\\\ u_2 \\\\ 0 \\\\ 0 \\\\ 0 \\\\\n",
    "\\end{pmatrix}\\\\\n",
    "y &= x_1 x_3 + x_2 x_4 + x_5\n",
    "\\end{array}\n",
    "\\right.\n",
    "$$\n"
   ]
  },
  {
   "cell_type": "code",
   "execution_count": null,
   "metadata": {},
   "outputs": [],
   "source": [
    "x = sym.symarray('x', 5)\n",
    "k1, k2 = sym.symbols('k1 k2')\n",
    "u1, u2 = sym.symbols('u1 u2')\n",
    "f = sym.Matrix([-k1 * x[0] + u1, -k2 * x[1] + u2, 0, 0, 0])\n",
    "C1, C2, gamma = sym.symbols('C1 C2 gamma')\n",
    "y = x[0] * x[2] + x[1] * x[3] + x[4]\n",
    "obsv = observability_matrix(f, y, x)\n",
    "\n",
    "print(f\"Rank of the observability matrix (symbolic): {obsv.rank()}\")\n",
    "# %%\n",
    "A1 = obsv.subs({x[0]: 4, x[1]: 3, x[2]: -8, x[3]: -2, x[4]: 100,\n",
    "                 k1: 5, k2: 7, u1: 0.2, u2: 0.3})\n",
    "print(f\"Rank of the observability matrix (numeric): {A1.rank()}\")\n"
   ]
  },
  {
   "attachments": {},
   "cell_type": "markdown",
   "metadata": {},
   "source": [
    "# Full extended system with linear output\n"
   ]
  },
  {
   "cell_type": "code",
   "execution_count": null,
   "metadata": {},
   "outputs": [],
   "source": [
    "A = sym.Matrix([[Ap, sym.zeros(4, 7)], [sym.zeros(4, 4), Ar, sym.zeros(4, 3)], [sym.zeros(3, 11)]])\n",
    "\n",
    "\n",
    "x = sym.symarray('x', 11)\n",
    "u = sym.symarray('u', 2)\n",
    "B = sym.Matrix([[1/V1p, 0, 0, 0, 0, 0, 0, 0, 0, 0, 0],\n",
    "                [0, 0, 0, 0, 1/V1r, 0, 0, 0, 0, 0, 0]]).T\n",
    "\n",
    "f = A @ x + B @ u\n",
    "\n",
    "y = x[3]*x[8] + x[7]*x[9] + x[10]\n",
    "\n",
    "obsv = observability_matrix(f, y, x)\n",
    "\n",
    "\n",
    "A1 = obsv.subs({x[0]: 4, x[1]: 4, x[2]: 4, x[3]: 4,\n",
    "                x[4]: 3, x[5]: 3, x[6]: 3, x[7]: 3,\n",
    "                x[8]: -8, x[9]: -2, x[10]: 100,\n",
    "                u[0]: 0.2, u[1]: 0.3,\n",
    "                k10p: k10p_value, k12p: k12p_value, k21p: k21p_value,\n",
    "                k13p: k13p_value, k31p: k31p_value, ke1p: ke1p_value, V1p: V1p_value,\n",
    "                k10r: k10r_value, k12r: k12r_value, k21r: k21r_value,\n",
    "                k13r: k13r_value, k31r: k31r_value, ke1r: ke1r_value, V1r: V1r_value})\n",
    "\n",
    "print(f\"Rank of the observability matrix (numeric): {A1.rank()}\")"
   ]
  },
  {
   "attachments": {},
   "cell_type": "markdown",
   "metadata": {},
   "source": [
    "## Full extended system with non-linear output"
   ]
  },
  {
   "cell_type": "code",
   "execution_count": null,
   "metadata": {},
   "outputs": [],
   "source": [
    "\n",
    "U = x[3]/x[8] + x[7]/x[9]\n",
    "y = 1 - U**x[10]/(1 - U**x[10])\n",
    "\n",
    "obsv = observability_matrix(f, y, x)\n",
    "\n",
    "\n",
    "A1 = obsv.subs({x[0]: 4, x[1]: 4, x[2]: 4, x[3]: 4,\n",
    "                x[4]: 3, x[5]: 3, x[6]: 3, x[7]: 3,\n",
    "                x[8]: 4, x[9]: 19, x[10]: 1.5,\n",
    "                u[0]: 0.2, u[1]: 0.3,\n",
    "                k10p: k10p_value, k12p: k12p_value, k21p: k21p_value,\n",
    "                k13p: k13p_value, k31p: k31p_value, ke1p: ke1p_value, V1p: V1p_value,\n",
    "                k10r: k10r_value, k12r: k12r_value, k21r: k21r_value,\n",
    "                k13r: k13r_value, k31r: k31r_value, ke1r: ke1r_value, V1r: V1r_value})\n",
    "\n",
    "print(f\"Rank of the observability matrix (numeric): {A1.rank()}\")"
   ]
  },
  {
   "attachments": {},
   "cell_type": "markdown",
   "metadata": {},
   "source": [
    "# Simplified non-linear system + disturbance\n",
    "\n",
    "The state is augmented with a constant disturbance $\\xi = \\begin{pmatrix} x \\\\ d \\end{pmatrix}$\n",
    " It comes:\n",
    " $$\n",
    "\\dot{\\xi} = \\begin{pmatrix} A & 0 \\\\ 0 & 0 \\end{pmatrix} \\xi + \\begin{pmatrix} B \\\\ 0 \\end{pmatrix} u\n",
    " $$\n"
   ]
  },
  {
   "cell_type": "code",
   "execution_count": null,
   "metadata": {},
   "outputs": [],
   "source": [
    "x = sym.symarray('x', 6)\n",
    "k1, k2 = sym.symbols('k1 k2')\n",
    "u1, u2 = sym.symbols('u1 u2')\n",
    "f = sym.Matrix([-k1 * x[0] + u1, -k2 * x[1] + u2, 0, 0, 0, 0])\n",
    "C1, C2, gamma = sym.symbols('C1 C2 gamma')\n",
    "U = x[0]/ x[2] + x[1]/ x[3] \n",
    "y = 1 - U**x[4]/(1 - U**x[4]) + x[5]\n",
    "obsv = observability_matrix(f, y, x)\n",
    "\n",
    "print(f\"Rank of the observability matrix (symbolic): {obsv.rank()}\")\n",
    "# %%\n",
    "A1 = obsv.subs({x[0]: 4, x[1]: 3, x[2]: -8, x[3]: -2, x[4]: 100, x[5]: 3,\n",
    "                 k1: 5, k2: 7, u1: 0.2, u2: 0.3})\n",
    "print(f\"Rank of the observability matrix (numeric): {A1.rank()}\")"
   ]
  }
 ],
 "metadata": {
  "kernelspec": {
   "display_name": "PAS_env",
   "language": "python",
   "name": "python3"
  },
  "language_info": {
   "codemirror_mode": {
    "name": "ipython",
    "version": 3
   },
   "file_extension": ".py",
   "mimetype": "text/x-python",
   "name": "python",
   "nbconvert_exporter": "python",
   "pygments_lexer": "ipython3",
   "version": "3.11.2"
  },
  "orig_nbformat": 4
 },
 "nbformat": 4,
 "nbformat_minor": 2
}
