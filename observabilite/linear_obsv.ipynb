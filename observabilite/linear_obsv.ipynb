{
 "cells": [
  {
   "attachments": {},
   "cell_type": "markdown",
   "metadata": {},
   "source": [
    "# Observability study of the linear system propofol-Remifentanil to BIS"
   ]
  },
  {
   "cell_type": "code",
   "execution_count": 1,
   "metadata": {},
   "outputs": [],
   "source": [
    "# Import of the necessary libraries\n",
    "import numpy as np\n",
    "import casadi as cas\n",
    "import control\n",
    "import python_anesthesia_simulator as pas\n",
    "import scipy.linalg as la"
   ]
  },
  {
   "attachments": {},
   "cell_type": "markdown",
   "metadata": {},
   "source": [
    "## System description\n",
    "\n",
    "Linearization of the PK-PD system for Propofol and Remifentanil effect on BIS.\n",
    "$$\n",
    "\\left\\{ \n",
    "    \\begin{array}{ll}\n",
    "    \\dot{x} &= A x + B u \\\\\n",
    "    y &= C x\n",
    "    \\end{array}\n",
    "    \\right.\n",
    "$$\n",
    "\n",
    "Different choices for the output matrix are possible: \n",
    "1) A linear approximation of the surface response;\n",
    "2) The inverse of the half effect concentration to get the intermdiate variable $U$ as output;\n",
    "3) A matrix with integer which give a rank of 7 for the observability matrix."
   ]
  },
  {
   "cell_type": "code",
   "execution_count": 20,
   "metadata": {},
   "outputs": [],
   "source": [
    "age = 50\n",
    "height = 170\n",
    "weight = 70\n",
    "gender = 0\n",
    "\n",
    "simulator = pas.Patient([age, height, weight, gender])\n",
    "\n",
    "# %% get matrices of PK system\n",
    "A_p = simulator.propo_pk.continuous_sys.A[:4, :4]\n",
    "A_r = simulator.remi_pk.continuous_sys.A[:4, :4]\n",
    "B_p = simulator.propo_pk.continuous_sys.B[:4]\n",
    "B_r = simulator.remi_pk.continuous_sys.B[:4]\n",
    "\n",
    "A = np.block([[A_p, np.zeros((4, 4))], [np.zeros((4, 4)), A_r]]) * 60 *60\n",
    "B = np.block([[B_p, np.zeros((4, 1))], [np.zeros((4, 1)), B_r]])\n",
    "\n",
    "# output matrix choice\n",
    "output = 2\n",
    "if output == 1:\n",
    "    x = cas.MX.sym('x', 8)\n",
    "    BIS = simulator.bis_pd.compute_bis(x[3], x[7])\n",
    "\n",
    "    grad = cas.gradient(BIS, x)\n",
    "    grad = cas.Function('grad', [x], [grad])\n",
    "\n",
    "    # get the equilibrium concentration\n",
    "    ratio = 2\n",
    "    up, ur = simulator.find_bis_equilibrium_with_ratio(50, ratio)\n",
    "    xp = up * control.dcgain(simulator.propo_pk.continuous_sys)\n",
    "    xr = ur * control.dcgain(simulator.remi_pk.continuous_sys)\n",
    "\n",
    "    C = np.array(grad([xp]*4+[xr]*4)).reshape(1, 8)\n",
    "# C = np.array([[0, 0, 0, 0, 0, 0, 0, 1],\n",
    "#               [0, 0, 0, 1, 0, 0, 0, 0]])\n",
    "elif output == 2:\n",
    "    C = np.array([[0, 0, 0, 1/simulator.bis_pd.c50p, 0, 0, 0, 1/simulator.bis_pd.c50r]])\n",
    "elif output == 3:\n",
    "    C = np.array([[0, 0, 0, 0.2, 0, 0, 0, 0.3]])\n"
   ]
  },
  {
   "attachments": {},
   "cell_type": "markdown",
   "metadata": {},
   "source": [
    "## Computation of the observability matrix"
   ]
  },
  {
   "cell_type": "code",
   "execution_count": 24,
   "metadata": {},
   "outputs": [
    {
     "name": "stdout",
     "output_type": "stream",
     "text": [
      "Rank of the observability matrix: 7\n"
     ]
    }
   ],
   "source": [
    "obsv = control.obsv(A, C)\n",
    "print(f\"Rank of the observability matrix: {np.linalg.matrix_rank(obsv)}\")"
   ]
  },
  {
   "attachments": {},
   "cell_type": "markdown",
   "metadata": {},
   "source": [
    "The rank of the matrix is only 7, but all the eigenvalue of $A$ are strictly negative, 7 modes of the system are observable and 1 is detectable.\n",
    "\n",
    "## Separation of the different mode\n",
    "\n",
    "Let's define $T = ( K_{O}^\\perp, K_{O})$, where $K_{O}$ is an orthonormal basis of the kernel of the observability matrix and $K_{O}^\\perp$ an orthonormal basis of it's complementary in $\\mathbb{R}^8$. \n",
    "\n",
    "Then let's denote $\\xi = T^{-1}x$ the state in the new basis. It comes:\n",
    "$$\n",
    "\\left\\{ \n",
    "    \\begin{array}{ll}\n",
    "    \\dot{\\xi} &= T^{-1} A T \\xi + T^{-1}B u \\\\\n",
    "    y &= C T \\xi\n",
    "    \\end{array}\n",
    "    \\right.\n",
    "$$\n",
    "\n",
    "Where the 6 first element of $\\xi$ are the observable modes and the two last ones are only detectable."
   ]
  },
  {
   "cell_type": "code",
   "execution_count": 26,
   "metadata": {},
   "outputs": [
    {
     "name": "stdout",
     "output_type": "stream",
     "text": [
      "[[-3.14918516e+01  4.44636008e-01  2.32868694e+00 -3.12377316e+01\n",
      "   3.13316774e+00  6.59499421e-01 -9.50365641e-02 -1.25859200e-02]\n",
      " [ 5.04520197e-01 -7.52060520e-01  5.75924012e-01  5.61693523e-01\n",
      "  -5.58666175e-02 -1.15087446e-02  3.55944741e-03  6.92417652e-01]\n",
      " [ 1.91073581e-02  6.21677416e-01 -1.52313416e+01  1.53105976e+01\n",
      "  -1.48702857e+00 -3.25099329e-01 -5.66582665e-02  5.85904716e-02]\n",
      " [ 8.19767401e-03 -3.34478744e-01  2.60007904e+01 -5.19475781e+01\n",
      "   2.57258331e+00  8.42916458e-01  2.68429864e+00  2.56436799e-02]\n",
      " [-7.83549673e-04  3.39664407e-02 -2.55758321e+00  2.56674116e+00\n",
      "  -2.58188382e+01 -2.31164176e+00  2.76206120e+01  1.23690536e-03]\n",
      " [-1.64431858e-04  7.08057123e-03 -5.33024353e-01  3.67114269e-01\n",
      "  -7.01551357e+00 -3.91923360e+00 -4.51071360e+00 -1.36181694e-03]\n",
      " [ 2.36498106e-05 -1.04174627e-03  7.82099290e-02 -1.10860890e-01\n",
      "  -1.79463498e-01 -9.88459681e+00 -6.05708843e+01  2.71328548e-03]\n",
      " [-9.29714540e-01  7.17810343e-01 -2.20239761e-01 -4.37094388e-01\n",
      "   2.44722117e-01  7.67274072e-02  1.79965373e-01 -6.95432464e-01]]\n",
      "[[-0.05180651  0.00083407  0.00086791 -0.02274742 -0.21367028 -0.05818474\n",
      "   0.          0.        ]]\n",
      "Rank of the observability matrix: 6\n"
     ]
    }
   ],
   "source": [
    "# %% get the kernel of the observability matrix\n",
    "kernel = la.null_space(obsv)\n",
    "ortho_obs = la.orth(obsv)\n",
    "\n",
    "\n",
    "# change base matrix\n",
    "T = np.block([[ortho_obs, kernel]])\n",
    "T.T @ T\n",
    "# change base of the system\n",
    "A_xi = T.T @ A @ T\n",
    "B_xi = T.T @ B\n",
    "C_xi = C @ T\n",
    "C_xi[:, 7:] = 0\n",
    "\n",
    "print(A_xi)\n",
    "print(C_xi)\n",
    "\n",
    "obsv_xi = control.obsv(A_xi, C_xi)\n",
    "print(f\"Rank of the observability matrix: {np.linalg.matrix_rank(obsv_xi)}\")"
   ]
  },
  {
   "attachments": {},
   "cell_type": "markdown",
   "metadata": {},
   "source": [
    "### Separation of the observable system"
   ]
  },
  {
   "cell_type": "code",
   "execution_count": 13,
   "metadata": {},
   "outputs": [
    {
     "name": "stdout",
     "output_type": "stream",
     "text": [
      "Rank of the observability matrix: 5\n"
     ]
    }
   ],
   "source": [
    "A_control = A_xi[:7, :7]\n",
    "C_control = C_xi[:, :7]\n",
    "obsv_control = control.obsv(A_control, C_control)\n",
    "# print(np.linalg.cond(obsv_control))\n",
    "print(f\"Rank of the observability matrix: {np.linalg.matrix_rank(obsv_control)}\")\n",
    "# kernel = la.null_space(obsv_control)\n",
    "# print(kernel)"
   ]
  },
  {
   "attachments": {},
   "cell_type": "markdown",
   "metadata": {},
   "source": [
    "After selecting the the observable part of the system the rank of the observability decrease, is this normal ?\n",
    "\n",
    "Creation of a gain for a linear observer:"
   ]
  },
  {
   "cell_type": "code",
   "execution_count": 14,
   "metadata": {},
   "outputs": [
    {
     "name": "stdout",
     "output_type": "stream",
     "text": [
      "Eigenvalues of the observable system: \n",
      " [-6.07550256e+00+1.32956252e+05j -6.07550256e+00-1.32956252e+05j\n",
      " -7.53636829e-03+2.43628116e-02j -7.53636829e-03-2.43628116e-02j\n",
      " -1.56509257e-03+0.00000000e+00j  1.60654873e-03+0.00000000e+00j] \n",
      " \n",
      "Eigenvalues of the full observed system: \n",
      " [-6.19505949e+00+132956.26694459j -6.19505949e+00-132956.26694459j\n",
      "  2.27964280e-01     +0.j         -1.18939995e-02     +0.j\n",
      "  3.35016255e-03     +0.j          1.36817980e-03     +0.j\n",
      " -9.08831306e-04     +0.j         -2.14403626e-04     +0.j        ] \n",
      " \n"
     ]
    }
   ],
   "source": [
    "\n",
    "L = control.place(A_control.T, C_control.T, [-1, -2, -3, -4, -5, -6, -7]).T\n",
    "\n",
    "A_control = A_control- L @ C_control\n",
    "\n",
    "A_correct = A_xi - np.block([[L],[np.zeros(1)],[np.zeros(1)]]) @ C_xi\n",
    "# eigenvalues of the system\n",
    "print(f\"Eigenvalues of the observable system: \\n {np.linalg.eigvals(A_control)} \\n \")\n",
    "print(f\"Eigenvalues of the full observed system: \\n {np.linalg.eigvals(A_correct)} \\n \")\n"
   ]
  }
 ],
 "metadata": {
  "kernelspec": {
   "display_name": "PAS_env",
   "language": "python",
   "name": "python3"
  },
  "language_info": {
   "codemirror_mode": {
    "name": "ipython",
    "version": 3
   },
   "file_extension": ".py",
   "mimetype": "text/x-python",
   "name": "python",
   "nbconvert_exporter": "python",
   "pygments_lexer": "ipython3",
   "version": "3.11.2"
  },
  "orig_nbformat": 4
 },
 "nbformat": 4,
 "nbformat_minor": 2
}
